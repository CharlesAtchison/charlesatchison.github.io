{
 "cells": [
  {
   "cell_type": "code",
   "execution_count": 1,
   "id": "d63f4c28",
   "metadata": {},
   "outputs": [],
   "source": [
    "import os"
   ]
  },
  {
   "cell_type": "code",
   "execution_count": 2,
   "id": "8df723ae",
   "metadata": {},
   "outputs": [],
   "source": [
    "images = os.listdir('images/about_icons')"
   ]
  },
  {
   "cell_type": "code",
   "execution_count": 6,
   "id": "52dae8b7",
   "metadata": {},
   "outputs": [
    {
     "name": "stdout",
     "output_type": "stream",
     "text": [
      " image: 'images/about_icons/markdown.png'\n",
      " image: 'images/about_icons/docker.png'\n",
      " image: 'images/about_icons/python.png'\n",
      " image: 'images/about_icons/Jekyll.png'\n",
      " image: 'images/about_icons/tableau.jpeg'\n",
      " image: 'images/about_icons/pandas.png'\n",
      " image: 'images/about_icons/terminal.png'\n",
      " image: 'images/about_icons/excel.jpeg'\n",
      " image: 'images/about_icons/spark.png'\n",
      " image: 'images/about_icons/cicd.png'\n",
      " image: 'images/about_icons/jquery.png'\n",
      " image: 'images/about_icons/github.png'\n",
      " image: 'images/about_icons/jupyter.png'\n",
      " image: 'images/about_icons/jupyter_lab.jpeg'\n",
      " image: 'images/about_icons/AWS.png'\n",
      " image: 'images/about_icons/javascript.png'\n",
      " image: 'images/about_icons/jinja.png'\n",
      " image: 'images/about_icons/microsoft.png'\n",
      " image: 'images/about_icons/matplotlib.png'\n",
      " image: 'images/about_icons/anaconda.png'\n",
      " image: 'images/about_icons/airflow.png'\n",
      " image: 'images/about_icons/numpy.png'\n",
      " image: 'images/about_icons/scss.jpeg'\n",
      " image: 'images/about_icons/postgresql.png'\n",
      " image: 'images/about_icons/apple.png'\n",
      " image: 'images/about_icons/mysql.png'\n",
      " image: 'images/about_icons/django.png'\n",
      " image: 'images/about_icons/seaborn.jpeg'\n",
      " image: 'images/about_icons/beautiful_soup.png'\n",
      " image: 'images/about_icons/HTML.png'\n",
      " image: 'images/about_icons/slack.png'\n",
      " image: 'images/about_icons/scipy.png'\n",
      " image: 'images/about_icons/github_pages.jpeg'\n",
      " image: 'images/about_icons/canva.png'\n",
      " image: 'images/about_icons/discord.png'\n",
      " image: 'images/about_icons/pipeline.jpeg'\n",
      " image: 'images/about_icons/statsmodels.png'\n",
      " image: 'images/about_icons/scikit_learn.png'\n",
      " image: 'images/about_icons/kafka.png'\n",
      " image: 'images/about_icons/vis_studio_code.png'\n",
      " image: 'images/about_icons/ipython.jpeg'\n",
      " image: 'images/about_icons/mongodb.png'\n",
      " image: 'images/about_icons/ubuntu.png'\n",
      " image: 'images/about_icons/word.png'\n"
     ]
    }
   ],
   "source": [
    "for img in images:\n",
    "    print(f\" image: 'images/about_icons/{img}'\")"
   ]
  },
  {
   "cell_type": "code",
   "execution_count": null,
   "id": "784e1d0e",
   "metadata": {},
   "outputs": [],
   "source": []
  }
 ],
 "metadata": {
  "kernelspec": {
   "display_name": "Python 3 (ipykernel)",
   "language": "python",
   "name": "python3"
  },
  "language_info": {
   "codemirror_mode": {
    "name": "ipython",
    "version": 3
   },
   "file_extension": ".py",
   "mimetype": "text/x-python",
   "name": "python",
   "nbconvert_exporter": "python",
   "pygments_lexer": "ipython3",
   "version": "3.9.7"
  }
 },
 "nbformat": 4,
 "nbformat_minor": 5
}
